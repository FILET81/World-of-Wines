{
 "cells": [
  {
   "cell_type": "code",
   "execution_count": 2,
   "metadata": {},
   "outputs": [],
   "source": [
    "import warnings\n",
    "warnings.filterwarnings(\"ignore\")\n",
    "\n",
    "import numpy as np\n",
    "import pandas as pd\n",
    "\n",
    "import requests\n",
    "from bs4 import BeautifulSoup"
   ]
  },
  {
   "cell_type": "code",
   "execution_count": 3,
   "metadata": {},
   "outputs": [],
   "source": [
    "wiki = [\"until\", \"from\"]\n",
    "\n",
    "pages_red = []\n",
    "\n",
    "for i in range(len(wiki)):\n",
    "    headers = {\"User-Agent\":\"MiAplicacion/1.0\"}\n",
    "    url_red = f\"https://en.wikipedia.org/w/index.php?title=Category:Red_wine_grape_varieties&page{wiki[i]}=Marzemino#mw-pages\"\n",
    "    response_red = requests.get(url_red, headers=headers)\n",
    "    pages_red.append(response_red.content)\n",
    "\n",
    "pages_wiki_red = []\n",
    "varieties_red = []\n",
    "\n",
    "for k in range(len(pages_red)):\n",
    "    pages_wiki_red.append(BeautifulSoup(pages_red[k], \"html.parser\"))\n",
    "    for j in pages_wiki_red[k].find_all(\"div\", class_=\"mw-category-group\"):\n",
    "        for i in j.find_all(\"li\"):\n",
    "            varieties_red.append(i.get_text().title().replace(\"(Grape)\",\"\").replace(\"Grape\",\"\").replace(\"Mourvèdre\",\"Mourvèdre/Monsatrell\").replace(\"Durif\",\"Petite Sirah/Durif\").replace(\"Carignan\",\"Carignan/Mazuelo\").replace(\"Alicante Bouschet\",\"Alicante Bouschet/Garnacha Tintorera\").strip())\n",
    "\n",
    "wines_red = pd.DataFrame({\"variety\":varieties_red, \"wine_type\":\"Red\"})"
   ]
  },
  {
   "cell_type": "code",
   "execution_count": 10,
   "metadata": {},
   "outputs": [],
   "source": [
    "wiki = [\"until\", \"from\"]\n",
    "\n",
    "pages_white = []\n",
    "\n",
    "for i in range(len(wiki)):\n",
    "    headers = {\"User-Agent\":\"MiAplicacion/1.0\"}\n",
    "    url_white = f\"https://en.wikipedia.org/w/index.php?title=Category:White_wine_grape_varieties&page{wiki[i]}=Marsanne#mw-pages\"\n",
    "    response_white = requests.get(url_white, headers=headers)\n",
    "    pages_white.append(response_white.content)\n",
    "\n",
    "pages_wiki_white = []\n",
    "varieties_white = []\n",
    "\n",
    "for k in range(len(pages_white)):\n",
    "    pages_wiki_white.append(BeautifulSoup(pages_white[k], \"html.parser\"))\n",
    "    for j in pages_wiki_white[k].find_all(\"div\", class_=\"mw-category-group\"):\n",
    "        for i in j.find_all(\"li\"):\n",
    "            varieties_white.append(i.get_text().title().replace(\"(Grape)\",\"\").replace(\"(Spanish Grape)\",\"\").replace(\"(Wine)\",\"\").replace(\"À\",\"à\").replace(\"Of\",\"of\").replace(\"Macabeo\",\"Viura/Macabeo\").replace(\"Prosecco\",\"Glera/Prosecco\").replace(\"Sauvignonasse\",\"Sauvignonasse/Friulano\").strip())\n",
    "\n",
    "wines_white = pd.DataFrame({\"variety\":varieties_white, \"wine_type\":\"White\"})"
   ]
  },
  {
   "cell_type": "code",
   "execution_count": null,
   "metadata": {},
   "outputs": [],
   "source": [
    "data_extra = [{\"variety\":\"Cabernet Sauvignon-Carménère\", \"wine_type\":\"Red\"}, \n",
    "              {\"variety\":\"Cabernet Sauvignon-Malbec\", \"wine_type\":\"Red\"}, \n",
    "              {\"variety\":\"Cabernet Sauvignon-Merlot\", \"wine_type\":\"Red\"}, \n",
    "              {\"variety\":\"Cabernet Sauvignon-Syrah\", \"wine_type\":\"Red\"},\n",
    "              {\"variety\":\"Cabernet Sauvignon-Tempranillo\", \"wine_type\":\"Red\"},\n",
    "              {\"variety\":\"Malbec-Merlot\", \"wine_type\":\"Red\"},\n",
    "              {\"variety\":\"Port\", \"wine_type\":\"Red\"},\n",
    "              {\"variety\":\"Red Blend\", \"wine_type\":\"Red\"},\n",
    "              {\"variety\":\"Rosé\", \"wine_type\":\"Rosé\"},\n",
    "              {\"variety\":\"Sauvignon Blanc-Sémillon\", \"wine_type\":\"White\"},\n",
    "              {\"variety\":\"Sherry\", \"wine_type\":\"White\"},\n",
    "              {\"variety\":\"Sparkling Blend\", \"wine_type\":\"Sparkling\"},\n",
    "              {\"variety\":\"Syrah-Grenache\", \"wine_type\":\"Red\"},\n",
    "              {\"variety\":\"Tinta De Toro\", \"wine_type\":\"Red\"},\n",
    "              {\"variety\":\"Tinto Fino\", \"wine_type\":\"Red\"},\n",
    "              {\"variety\":\"Turbiana\", \"wine_type\":\"White\"},\n",
    "              {\"variety\":\"White Blend\", \"wine_type\":\"White\"}]\n",
    "\n",
    "wines_extra = pd.DataFrame(data_extra)"
   ]
  },
  {
   "cell_type": "code",
   "execution_count": 6,
   "metadata": {},
   "outputs": [],
   "source": [
    "wines_type = pd.concat([wines_red, wines_white, wines_extra], axis=0, ignore_index=True)"
   ]
  },
  {
   "cell_type": "code",
   "execution_count": null,
   "metadata": {},
   "outputs": [],
   "source": []
  },
  {
   "cell_type": "code",
   "execution_count": null,
   "metadata": {},
   "outputs": [],
   "source": []
  },
  {
   "cell_type": "code",
   "execution_count": null,
   "metadata": {},
   "outputs": [],
   "source": []
  }
 ],
 "metadata": {
  "kernelspec": {
   "display_name": "Original",
   "language": "python",
   "name": "python3"
  },
  "language_info": {
   "codemirror_mode": {
    "name": "ipython",
    "version": 3
   },
   "file_extension": ".py",
   "mimetype": "text/x-python",
   "name": "python",
   "nbconvert_exporter": "python",
   "pygments_lexer": "ipython3",
   "version": "3.12.5"
  }
 },
 "nbformat": 4,
 "nbformat_minor": 2
}
